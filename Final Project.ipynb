{
 "cells": [
  {
   "cell_type": "code",
   "execution_count": 2,
   "metadata": {
    "collapsed": true
   },
   "outputs": [],
   "source": [
    "import os"
   ]
  },
  {
   "cell_type": "code",
   "execution_count": 3,
   "metadata": {
    "collapsed": true
   },
   "outputs": [],
   "source": [
    "# set working directory\n",
    "os.chdir(\"../CSB/Final\")"
   ]
  },
  {
   "cell_type": "code",
   "execution_count": 127,
   "metadata": {
    "collapsed": false
   },
   "outputs": [],
   "source": [
    "# for regex\n",
    "import re\n",
    "# for arrays\n",
    "import numpy as np\n",
    "# import Biopython tools for gene & protein analysis\n",
    "from Bio.Seq import translate\n",
    "from Bio.SeqUtils.ProtParam import ProteinAnalysis\n",
    "import codecs\n",
    "# for encoding snapgene file\n",
    "types_of_encoding = [\"utf8\", \"cp1252\"]\n",
    "\n",
    "# create an array to hold all of the analyzed data\n",
    "dataArray = np.empty( (0,6) )\n",
    "\n",
    "# use glob to check each file in \"Constructs\" that starts with \"pMNR\"\n",
    "import glob\n",
    "for name in glob.glob('Constructs/pMNR*.dna'):\n",
    "    # identify construct number\n",
    "    i = re.search(r\"pMNR\\d\\d\\d\", name).group()[4:]\n",
    "    \n",
    "    # Convert Snapgene files to readable format & pull DNA sequence\n",
    "    # that are longer than 100 char (ie longer than primers or restriction sites) \n",
    "    for encoding_type in types_of_encoding:\n",
    "        with codecs.open(name, encoding = encoding_type, \n",
    "                         errors ='replace') as DNAfile:\n",
    "            construct = DNAfile.read()\n",
    "            sequence = re.search(r\"[atgcATGC]{100,}\", \n",
    "                                 construct).group()\n",
    "    \n",
    "    # Determine whether DNA construct is for transfection into S2 or Sf9 cells\n",
    "    # First search gene to see if it contains BiP signal sequence\n",
    "    gene = re.search(r\"ATGAAGTTATGCATATTACTGGCCGTCGTGGCCTTTGTTGGCCTCTCGCTCGGG\\w+taaGATATCCAGCACAGTGGcggccgc\" , \n",
    "                     sequence, re.IGNORECASE)\n",
    "    if(gene != None): # i.e. if gene contains above BiP signal sequence\n",
    "        gene = gene.group()[54:-24]\n",
    "        signal = \"BiP\"\n",
    "    else: # if gene does not contain BiP signal sequence, search for GP67\n",
    "        gene = re.search(r\"ATGCTACTAGTAAATCAGTCACACCAAGGCTTCAATAAGGAACACACAAGCAAGATGGTAAGCGCTATTGTTTTATATGTGCTTTTGGCGGCGGCGGCGCATTCTGCCTTTGCG\\w+taaGCGGCCGCTGCAGATCTgatccTTTCCTGGGAC\" , \n",
    "                         sequence, re.IGNORECASE).group()\n",
    "        if(gene != None): #i.e. if gene contains above GP67 signal sequence\n",
    "            gene = gene[114:-33]\n",
    "            signal = \"GP67\"\n",
    "        else: # if gene contains an unidentified signal peptide\n",
    "            signal = \"N/A\"\n",
    "    \n",
    "    basePairs = len(gene)\n",
    "    # translate gene and analyze protein in current file\n",
    "    protein = translate(gene[:-3])\n",
    "    analyzedProt = ProteinAnalysis(protein)\n",
    "    # compile data into an array\n",
    "    tempArray = np.array([i, basePairs, signal, round(analyzedProt.molecular_weight() / 1000, 2),\n",
    "                          gene, protein])\n",
    "    dataArray = np.vstack((dataArray, tempArray))\n",
    "    \n",
    "# arrange data into a table, minus gene & protein sequences\n",
    "import pandas\n",
    "dataTable = pandas.DataFrame(dataArray[:,0:tempArray.size - 2], index = dataArray[:,0])\n",
    "\n",
    "# Find possible additional mass of protein construct due to N-linked glycosylation\n",
    "# and add data to table\n",
    "j = 0\n",
    "NglycMassCol = np.empty((0,1))\n",
    "NglycSitesCol = np.empty((0,1))\n",
    "for k in dataArray[:,0]:\n",
    "    Nglyc = re.findall(r\"N\\w[S,T,C]\", dataArray[j,5])\n",
    "    NglycMass = 1.136 * len(Nglyc)\n",
    "    NglycTemp = round(float(dataArray[j,3]) + NglycMass, 2)\n",
    "    NglycMassCol = np.vstack((NglycMassCol, NglycTemp))\n",
    "    NglycSitesCol = np.vstack((NglycSitesCol, len(Nglyc)))\n",
    "    j = j + 1\n",
    "dataTable = np.hstack((dataTable, NglycMassCol))\n",
    "dataTable = np.hstack((dataTable, NglycSitesCol))\n",
    "\n",
    "# A function that accepts the snapgene file name and returns details\n",
    "# on base pair number (for PCR), signal sequence (for cell lines), \n",
    "# and molecular weight range (for protein gel/Western blot)\n",
    "def constructParam(constructName):\n",
    "    constructNum = int(re.search(r\"\\d+\", constructName).group())\n",
    "    for l in dataTable[:,0]:\n",
    "        row = int(l) - 1\n",
    "        if constructNum == int(dataArray[row, 0]):\n",
    "            print(\"Construct\", constructNum, \":\\nGene is\",\n",
    "                 dataTable[row, 1], \"base pairs\\nProtein is\", dataTable[row, 3],\n",
    "                 \"kDa\\n\", dataTable[row, 5], \"estimated N-linked glycosylation sites\\n\",\n",
    "                  \"With glycosylation, protein is an estimated\", dataTable[row, 4], \"kDa.\")\n"
   ]
  },
  {
   "cell_type": "code",
   "execution_count": null,
   "metadata": {
    "collapsed": true
   },
   "outputs": [],
   "source": []
  }
 ],
 "metadata": {
  "anaconda-cloud": {},
  "kernelspec": {
   "display_name": "Python [default]",
   "language": "python",
   "name": "python3"
  },
  "language_info": {
   "codemirror_mode": {
    "name": "ipython",
    "version": 3
   },
   "file_extension": ".py",
   "mimetype": "text/x-python",
   "name": "python",
   "nbconvert_exporter": "python",
   "pygments_lexer": "ipython3",
   "version": "3.5.2"
  }
 },
 "nbformat": 4,
 "nbformat_minor": 1
}
